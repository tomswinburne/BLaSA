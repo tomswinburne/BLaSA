{
 "cells": [
  {
   "cell_type": "code",
   "execution_count": 9,
   "metadata": {},
   "outputs": [],
   "source": [
    "import numpy as np\n",
    "import matplotlib.pyplot as plt\n",
    "from mpl_toolkits.mplot3d import Axes3D\n",
    "%matplotlib inline\n",
    "import spglib\n",
    "from itertools import product"
   ]
  },
  {
   "cell_type": "code",
   "execution_count": 58,
   "metadata": {},
   "outputs": [
    {
     "name": "stdout",
     "output_type": "stream",
     "text": [
      "Im-3m (229)\n"
     ]
    }
   ],
   "source": [
    "lattice = [[0.0, 0.5, 0.5],\n",
    "           [0.5, 0.0, 0.5],\n",
    "           [0.5, 0.5, 0.0]]\n",
    "lattice = [[-0.5, 0.5, 0.5],\n",
    "           [0.5, -0.5, 0.5],\n",
    "           [0.5, 0.5, -0.5]]\n",
    "positions = [[0.0, 0.0, 0.0]] \n",
    "species = [1]\n",
    "cell = (lattice, positions, species)\n",
    "print(spglib.get_spacegroup(cell))"
   ]
  },
  {
   "cell_type": "markdown",
   "metadata": {},
   "source": [
    "- We can easily form all bond vectors, but we want all unique ones....\n",
    "- bond vectors should be lattice vectors\n",
    "- non trivial in general to generate all non-equivalent bonding vectors..."
   ]
  },
  {
   "cell_type": "code",
   "execution_count": 62,
   "metadata": {},
   "outputs": [],
   "source": [
    "def point_matrices(cell,cutoff=0.9):\n",
    "    \n",
    "    space_group = spglib.get_symmetry(cell)\n",
    "    bv=[]\n",
    "    for t,m in zip(space_group['translations'],space_group['rotations']):\n",
    "        bv.append(m@cell[0]+t) # np.r_[cell[0]]+\n",
    "    bv = np.r_[bv].reshape((-1,3))\n",
    "    bv = bv[np.linalg.norm(bv,axis=1)<cutoff]\n",
    "    return bv\n",
    "def bond_vectors(cell,cutoff=0.9):\n",
    "    C = np.r_[cell[0]]\n",
    "    tbv=[]\n",
    "    for ijk in product([-2,-1,0,1,2],repeat=3):\n",
    "        bv = np.r_[ijk]@C\n",
    "        l = np.linalg.norm(bv)\n",
    "        if l>0.0 and l<cutoff:\n",
    "            tbv.append(bv)\n",
    "    \n",
    "    return np.r_[tbv]\n",
    "    "
   ]
  },
  {
   "cell_type": "code",
   "execution_count": 67,
   "metadata": {},
   "outputs": [
    {
     "name": "stdout",
     "output_type": "stream",
     "text": [
      "[[-0.5 -0.5 -0.5]\n",
      " [ 0.5 -0.5 -0.5]\n",
      " [-0.5  0.5 -0.5]\n",
      " [-0.5 -0.5  0.5]\n",
      " [ 0.5  0.5 -0.5]\n",
      " [ 0.5 -0.5  0.5]\n",
      " [-0.5  0.5  0.5]\n",
      " [ 0.5  0.5  0.5]]\n",
      "----\n",
      "[[ 0.  0. -1.]\n",
      " [ 0. -1.  0.]\n",
      " [-1.  0.  0.]\n",
      " [ 1.  0.  0.]\n",
      " [ 0.  1.  0.]\n",
      " [ 0.  0.  1.]]\n"
     ]
    }
   ],
   "source": [
    "B = bond_vectors(cell,cutoff=1.1)\n",
    "mag = np.linalg.norm(B,axis=1)\n",
    "mags = np.unique(mag)\n",
    "\n",
    "print(B[mag==mags[0]])\n",
    "print(\"----\")\n",
    "print(B[mag==mags[1]])"
   ]
  },
  {
   "cell_type": "code",
   "execution_count": 6,
   "metadata": {},
   "outputs": [
    {
     "name": "stdout",
     "output_type": "stream",
     "text": [
      "[0.5, 0.25, 0.25, -0.5, -0.25, -0.25, -0.25, -0.5, 0.25, 0.5, 0.25, 0.5, -0.25, -0.5, -0.25, -0.25, 0.25, 0.25, 0.25, 0.25, -0.25, -0.25, -0.25, -0.5, -0.25, 0.25, 0.5, 0.25, 0.25, 0.5, -0.25, -0.5, -0.5, -0.25, 0.5, 0.25, 0.25, 0.5, 0.25, -0.25, -0.5, -0.25, -0.5, -0.25, 0.5, 0.25, 0.25, 0.5, -0.25, -0.5, -0.25, -0.25, 0.25, 0.25, 0.25, 0.25, -0.25, -0.25, -0.25, -0.25, -0.5, 0.25, 0.25, 0.5, 0.5, 0.25, -0.5, -0.25, -0.5, -0.25, 0.5, 0.25, 0.25, 0.25, 0.5, -0.25, -0.25, -0.5, -0.25, -0.5, 0.25, 0.5, 0.5, 0.25, -0.5, -0.25, -0.25, -0.25, 0.25, 0.25, 0.25, 0.25, -0.25, -0.25, -0.5, -0.25, -0.25, 0.5, 0.25, 0.25, 0.5, 0.25, -0.5, -0.25, -0.25, -0.5, 0.25, 0.5]\n"
     ]
    }
   ],
   "source": [
    "print([m@np.r_[[0.0,0.5,0.5]] for m in point_matrices(cell)])"
   ]
  },
  {
   "cell_type": "code",
   "execution_count": 7,
   "metadata": {},
   "outputs": [
    {
     "ename": "TypeError",
     "evalue": "'<' not supported between instances of 'float' and 'function'",
     "output_type": "error",
     "traceback": [
      "\u001b[0;31m---------------------------------------------------------------------------\u001b[0m",
      "\u001b[0;31mTypeError\u001b[0m                                 Traceback (most recent call last)",
      "\u001b[0;32m<ipython-input-7-cf7cfc86c635>\u001b[0m in \u001b[0;36m<module>\u001b[0;34m\u001b[0m\n\u001b[0;32m----> 1\u001b[0;31m \u001b[0mM\u001b[0m \u001b[0;34m=\u001b[0m \u001b[0mpoint_matrices\u001b[0m\u001b[0;34m(\u001b[0m\u001b[0mcell\u001b[0m\u001b[0;34m,\u001b[0m\u001b[0mbond_vectors\u001b[0m\u001b[0;34m)\u001b[0m\u001b[0;34m\u001b[0m\u001b[0;34m\u001b[0m\u001b[0m\n\u001b[0m\u001b[1;32m      2\u001b[0m \u001b[0mb\u001b[0m \u001b[0;34m=\u001b[0m \u001b[0mnp\u001b[0m\u001b[0;34m.\u001b[0m\u001b[0mr_\u001b[0m\u001b[0;34m[\u001b[0m\u001b[0;34m[\u001b[0m\u001b[0;36m0.5\u001b[0m\u001b[0;34m,\u001b[0m\u001b[0;36m0.5\u001b[0m\u001b[0;34m,\u001b[0m\u001b[0;36m0.0\u001b[0m\u001b[0;34m]\u001b[0m\u001b[0;34m]\u001b[0m\u001b[0;34m\u001b[0m\u001b[0;34m\u001b[0m\u001b[0m\n\u001b[1;32m      3\u001b[0m \u001b[0mprint\u001b[0m\u001b[0;34m(\u001b[0m\u001b[0mnp\u001b[0m\u001b[0;34m.\u001b[0m\u001b[0munique\u001b[0m\u001b[0;34m(\u001b[0m\u001b[0;34m[\u001b[0m\u001b[0mm\u001b[0m\u001b[0;34m@\u001b[0m\u001b[0mb\u001b[0m \u001b[0;32mfor\u001b[0m \u001b[0mm\u001b[0m \u001b[0;32min\u001b[0m \u001b[0mM\u001b[0m\u001b[0;34m]\u001b[0m\u001b[0;34m,\u001b[0m\u001b[0maxis\u001b[0m\u001b[0;34m=\u001b[0m\u001b[0;36m0\u001b[0m\u001b[0;34m)\u001b[0m\u001b[0;34m)\u001b[0m\u001b[0;34m\u001b[0m\u001b[0;34m\u001b[0m\u001b[0m\n\u001b[1;32m      4\u001b[0m \u001b[0;34m\u001b[0m\u001b[0m\n\u001b[1;32m      5\u001b[0m \u001b[0;31m# generate one set then see if others fill it. Reasonable for users to pick which bonding vectors they want, we can do the rest....\u001b[0m\u001b[0;34m\u001b[0m\u001b[0;34m\u001b[0m\u001b[0;34m\u001b[0m\u001b[0m\n",
      "\u001b[0;32m<ipython-input-3-bec027acd931>\u001b[0m in \u001b[0;36mpoint_matrices\u001b[0;34m(cell, cutoff)\u001b[0m\n\u001b[1;32m      4\u001b[0m     \u001b[0mM\u001b[0m \u001b[0;34m=\u001b[0m \u001b[0mspace_group\u001b[0m\u001b[0;34m[\u001b[0m\u001b[0;34m'rotations'\u001b[0m\u001b[0;34m]\u001b[0m\u001b[0;34m[\u001b[0m\u001b[0msel\u001b[0m\u001b[0;34m]\u001b[0m\u001b[0;34m\u001b[0m\u001b[0;34m\u001b[0m\u001b[0m\n\u001b[1;32m      5\u001b[0m     \u001b[0mbv\u001b[0m \u001b[0;34m=\u001b[0m \u001b[0mnp\u001b[0m\u001b[0;34m.\u001b[0m\u001b[0mr_\u001b[0m\u001b[0;34m[\u001b[0m\u001b[0;34m[\u001b[0m\u001b[0mm\u001b[0m\u001b[0;34m@\u001b[0m\u001b[0mnp\u001b[0m\u001b[0;34m.\u001b[0m\u001b[0mr_\u001b[0m\u001b[0;34m[\u001b[0m\u001b[0mcell\u001b[0m\u001b[0;34m[\u001b[0m\u001b[0;36m0\u001b[0m\u001b[0;34m]\u001b[0m\u001b[0;34m]\u001b[0m \u001b[0;32mfor\u001b[0m \u001b[0mm\u001b[0m \u001b[0;32min\u001b[0m \u001b[0mM\u001b[0m\u001b[0;34m]\u001b[0m\u001b[0;34m]\u001b[0m\u001b[0;34m.\u001b[0m\u001b[0mreshape\u001b[0m\u001b[0;34m(\u001b[0m\u001b[0;34m(\u001b[0m\u001b[0;34m-\u001b[0m\u001b[0;36m1\u001b[0m\u001b[0;34m,\u001b[0m\u001b[0;36m3\u001b[0m\u001b[0;34m)\u001b[0m\u001b[0;34m)\u001b[0m\u001b[0;34m\u001b[0m\u001b[0;34m\u001b[0m\u001b[0m\n\u001b[0;32m----> 6\u001b[0;31m     \u001b[0mbv\u001b[0m \u001b[0;34m=\u001b[0m \u001b[0mbv\u001b[0m\u001b[0;34m[\u001b[0m\u001b[0mnp\u001b[0m\u001b[0;34m.\u001b[0m\u001b[0mlinalg\u001b[0m\u001b[0;34m.\u001b[0m\u001b[0mnorm\u001b[0m\u001b[0;34m(\u001b[0m\u001b[0mbv\u001b[0m\u001b[0;34m,\u001b[0m\u001b[0maxis\u001b[0m\u001b[0;34m=\u001b[0m\u001b[0;36m1\u001b[0m\u001b[0;34m)\u001b[0m\u001b[0;34m<\u001b[0m\u001b[0mcutoff\u001b[0m\u001b[0;34m]\u001b[0m\u001b[0;34m\u001b[0m\u001b[0;34m\u001b[0m\u001b[0m\n\u001b[0m\u001b[1;32m      7\u001b[0m     \u001b[0;32mreturn\u001b[0m \u001b[0mbv\u001b[0m\u001b[0;34m\u001b[0m\u001b[0;34m\u001b[0m\u001b[0m\n\u001b[1;32m      8\u001b[0m     \u001b[0;32mreturn\u001b[0m \u001b[0mset\u001b[0m\u001b[0;34m(\u001b[0m\u001b[0mtuple\u001b[0m\u001b[0;34m(\u001b[0m\u001b[0mrow\u001b[0m\u001b[0;34m)\u001b[0m \u001b[0;32mfor\u001b[0m \u001b[0mrow\u001b[0m \u001b[0;32min\u001b[0m \u001b[0mbv\u001b[0m\u001b[0;34m)\u001b[0m\u001b[0;34m\u001b[0m\u001b[0;34m\u001b[0m\u001b[0m\n",
      "\u001b[0;31mTypeError\u001b[0m: '<' not supported between instances of 'float' and 'function'"
     ]
    }
   ],
   "source": [
    "M = point_matrices(cell,bond_vectors)\n",
    "b = np.r_[[0.5,0.5,0.0]]\n",
    "print(np.unique([m@b for m in M],axis=0))\n",
    "\n",
    "# generate one set then see if others fill it. Reasonable for users to pick which bonding vectors they want, we can do the rest....\n"
   ]
  },
  {
   "cell_type": "code",
   "execution_count": null,
   "metadata": {},
   "outputs": [],
   "source": [
    "bv = bond_vectors(cell,cutoff=0.5*(1.0+1.0/np.sqrt(2.0)))\n",
    "print(bv[bv.sum(axis=1).argmax()])"
   ]
  },
  {
   "cell_type": "code",
   "execution_count": null,
   "metadata": {},
   "outputs": [],
   "source": [
    "space_group = spglib.get_symmetry(cell)#tuple([cell[0],cell[1],cell[2]]))\n",
    "print(space_group['translations'])\n"
   ]
  },
  {
   "cell_type": "code",
   "execution_count": null,
   "metadata": {},
   "outputs": [],
   "source": []
  }
 ],
 "metadata": {
  "kernelspec": {
   "display_name": "Python 3",
   "language": "python",
   "name": "python3"
  },
  "language_info": {
   "codemirror_mode": {
    "name": "ipython",
    "version": 3
   },
   "file_extension": ".py",
   "mimetype": "text/x-python",
   "name": "python",
   "nbconvert_exporter": "python",
   "pygments_lexer": "ipython3",
   "version": "3.8.3"
  }
 },
 "nbformat": 4,
 "nbformat_minor": 4
}
